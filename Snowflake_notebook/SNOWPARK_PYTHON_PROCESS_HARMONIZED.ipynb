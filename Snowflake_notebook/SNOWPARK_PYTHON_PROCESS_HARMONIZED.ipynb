{
 "cells": [
  {
   "cell_type": "code",
   "execution_count": null,
   "id": "3775908f-ca36-4846-8f38-5adca39217f2",
   "metadata": {
    "collapsed": false,
    "language": "python",
    "name": "cell1"
   },
   "outputs": [],
   "source": [
    "from snowflake.snowpark import Session\n",
    "import logging\n",
    "import time\n",
    "import os\n",
    "\n",
    "# Configure logging\n",
    "logging.basicConfig(level=logging.INFO)\n",
    "logger = logging.getLogger(\"SNOWFLAKE_TASKS\")\n",
    "\n",
    "# Snowflake Connection\n",
    "connection_params = {\n",
    "    \"account\": os.getenv(\"SNOWFLAKE_ACCOUNT\"),\n",
    "    \"user\": os.getenv(\"SNOWFLAKE_USER\"),\n",
    "    \"password\": os.getenv(\"SNOWFLAKE_PASSWORD\"),\n",
    "    \"warehouse\": os.getenv(\"SNOWFLAKE_WAREHOUSE\"),\n",
    "    \"database\": os.getenv(\"SNOWFLAKE_DATABASE\"),\n",
    "    \"schema\": os.getenv(\"SNOWFLAKE_SCHEMA\")\n",
    "}\n",
    "\n",
    "#session = Session.builder.configs(connection_params).create()\n",
    "\n",
    "def execute_stored_procedure(procedure_name):\n",
    "    \"\"\"Executes a stored procedure using the provided session.\"\"\"\n",
    "    try:\n",
    "        logger.info(f\"Executing stored procedure: {procedure_name}\")\n",
    "        session.sql(f\"CALL {procedure_name}();\").collect()\n",
    "        logger.info(f\"Stored Procedure `{procedure_name}` executed successfully.\")\n",
    "    except Exception as e:\n",
    "        logger.error(f\"Error executing {procedure_name}: {str(e)}\")\n",
    "\n",
    "def check_task_status():\n",
    "    \"\"\"Checks the latest execution status of tasks in Snowflake.\"\"\"\n",
    "    try:\n",
    "        logger.info(\"Fetching latest task execution status...\")\n",
    "        df = session.sql(\"\"\"\n",
    "            SELECT NAME, STATE, COMPLETED_TIME \n",
    "            FROM TABLE(INFORMATION_SCHEMA.TASK_HISTORY()) \n",
    "            ORDER BY COMPLETED_TIME DESC LIMIT 5\n",
    "        \"\"\").collect()\n",
    "        for row in df:\n",
    "            logger.info(f\"Task: {row['NAME']} | Status: {row['STATE']} | Completed: {row['COMPLETED_TIME']}\")\n",
    "    except Exception as e:\n",
    "        logger.error(f\"Error fetching task status: {str(e)}\")\n",
    "\n",
    "# Step 1: Execute Stored Procedures Using the Provided Session\n",
    "#execute_stored_procedure(\"PROCESS_TOM_PROCESSED_STREAM()\")\n",
    "execute_stored_procedure(\"PROCESS_TOM_PROCESSED_TASK\")\n",
    "time.sleep(5)  # Wait for the first task to complete before triggering the second\n",
    "execute_stored_procedure(\"PROCESS_HARMONIZED_TOM_TASK\")\n",
    "\n",
    "# Step 2: Monitor the Task Execution\n",
    "check_task_status()\n",
    "\n",
    "print(\"Stored Procedure Triggered & Execution Status Checked!\")\n"
   ]
  }
 ],
 "metadata": {
  "kernelspec": {
   "display_name": "Streamlit Notebook",
   "name": "streamlit"
  },
  "lastEditStatus": {
   "authorEmail": "singh.riya2@northeastern.edu",
   "authorId": "4239853551287",
   "authorName": "RIYA98",
   "lastEditTime": 1740714144673,
   "notebookId": "xm64oypfbwemt44nvaf4",
   "sessionId": "516ceed3-68be-4524-b61b-4700eaf24511"
  }
 },
 "nbformat": 4,
 "nbformat_minor": 5
}
