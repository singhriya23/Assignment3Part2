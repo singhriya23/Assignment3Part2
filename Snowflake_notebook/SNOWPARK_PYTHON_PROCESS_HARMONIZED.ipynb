{
 "metadata": {
  "kernelspec": {
   "display_name": "Streamlit Notebook",
   "name": "streamlit"
  },
  "lastEditStatus": {
   "notebookId": "xm64oypfbwemt44nvaf4",
   "authorId": "4239853551287",
   "authorName": "RIYA98",
   "authorEmail": "singh.riya2@northeastern.edu",
   "sessionId": "516ceed3-68be-4524-b61b-4700eaf24511",
   "lastEditTime": 1740714144673
  }
 },
 "nbformat_minor": 5,
 "nbformat": 4,
 "cells": [
  {
   "cell_type": "code",
   "id": "3775908f-ca36-4846-8f38-5adca39217f2",
   "metadata": {
    "language": "python",
    "name": "cell1",
    "collapsed": false
   },
   "source": "from snowflake.snowpark import Session\nimport logging\nimport time\n\n# Configure logging\nlogging.basicConfig(level=logging.INFO)\nlogger = logging.getLogger(\"SNOWFLAKE_TASKS\")\n\n# Snowflake Connection\nconnection_params = {\n    \"account\": \"blfljqq-ff41632\",\n    \"user\": \"RIYA98\",\n    \"password\": \"Bigdatasys7245\",\n    \"warehouse\": \"TOM_WH\",\n    \"database\": \"TOM_DB\",\n    \"schema\": \"RAW_TOM\"\n}\n\n#session = Session.builder.configs(connection_params).create()\n\ndef execute_stored_procedure(procedure_name):\n    \"\"\"Executes a stored procedure using the provided session.\"\"\"\n    try:\n        logger.info(f\"Executing stored procedure: {procedure_name}\")\n        session.sql(f\"CALL {procedure_name}();\").collect()\n        logger.info(f\"Stored Procedure `{procedure_name}` executed successfully.\")\n    except Exception as e:\n        logger.error(f\"Error executing {procedure_name}: {str(e)}\")\n\ndef check_task_status():\n    \"\"\"Checks the latest execution status of tasks in Snowflake.\"\"\"\n    try:\n        logger.info(\"Fetching latest task execution status...\")\n        df = session.sql(\"\"\"\n            SELECT NAME, STATE, COMPLETED_TIME \n            FROM TABLE(INFORMATION_SCHEMA.TASK_HISTORY()) \n            ORDER BY COMPLETED_TIME DESC LIMIT 5\n        \"\"\").collect()\n        for row in df:\n            logger.info(f\"Task: {row['NAME']} | Status: {row['STATE']} | Completed: {row['COMPLETED_TIME']}\")\n    except Exception as e:\n        logger.error(f\"Error fetching task status: {str(e)}\")\n\n# Step 1: Execute Stored Procedures Using the Provided Session\n#execute_stored_procedure(\"PROCESS_TOM_PROCESSED_STREAM()\")\nexecute_stored_procedure(\"PROCESS_TOM_PROCESSED_TASK\")\ntime.sleep(5)  # Wait for the first task to complete before triggering the second\nexecute_stored_procedure(\"PROCESS_HARMONIZED_TOM_TASK\")\n\n# Step 2: Monitor the Task Execution\ncheck_task_status()\n\nprint(\"Stored Procedure Triggered & Execution Status Checked!\")\n",
   "execution_count": null,
   "outputs": []
  }
 ]
}