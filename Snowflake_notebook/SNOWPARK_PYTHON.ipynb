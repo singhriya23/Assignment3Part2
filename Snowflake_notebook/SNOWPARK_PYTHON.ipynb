{
 "cells": [
  {
   "cell_type": "code",
   "execution_count": null,
   "id": "3775908f-ca36-4846-8f38-5adca39217f2",
   "metadata": {
    "language": "python",
    "name": "cell1"
   },
   "outputs": [],
   "source": [
    "from snowflake.snowpark import Session\n",
    "import logging\n",
    "import time\n",
    "import os\n",
    "\n",
    "# Configure logging\n",
    "logging.basicConfig(level=logging.INFO)\n",
    "logger = logging.getLogger(\"SNOWFLAKE_TASKS\")\n",
    "\n",
    "# Snowflake Connection\n",
    "connection_params = {\n",
    "    \"account\": os.getenv(\"SNOWFLAKE_ACCOUNT\"),\n",
    "    \"user\": os.getenv(\"SNOWFLAKE_USER\"),\n",
    "    \"password\": os.getenv(\"SNOWFLAKE_PASSWORD\"),\n",
    "    \"warehouse\": os.getenv(\"SNOWFLAKE_WAREHOUSE\"),\n",
    "    \"database\": os.getenv(\"SNOWFLAKE_DATABASE\"),\n",
    "    \"schema\": os.getenv(\"SNOWFLAKE_SCHEMA\")\n",
    "}\n",
    "\n",
    "#session = Session.builder.configs(connection_params).create()\n",
    "\n",
    "def execute_stored_procedure(procedure_name):\n",
    "    \"\"\"Executes a stored procedure using the provided session.\"\"\"\n",
    "    try:\n",
    "        logger.info(f\"Executing stored procedure: {procedure_name}\")\n",
    "        session.sql(f\"CALL {procedure_name}();\").collect()\n",
    "        logger.info(f\"Stored Procedure `{procedure_name}` executed successfully.\")\n",
    "    except Exception as e:\n",
    "        logger.error(f\"Error executing {procedure_name}: {str(e)}\")\n",
    "\n",
    "def check_task_status():\n",
    "    \"\"\"Checks the latest execution status of tasks in Snowflake.\"\"\"\n",
    "    try:\n",
    "        logger.info(\"Fetching latest task execution status...\")\n",
    "        df = session.sql(\"\"\"\n",
    "            SELECT NAME, STATE, COMPLETED_TIME \n",
    "            FROM TABLE(INFORMATION_SCHEMA.TASK_HISTORY()) \n",
    "            ORDER BY COMPLETED_TIME DESC LIMIT 5\n",
    "        \"\"\").collect()\n",
    "        for row in df:\n",
    "            logger.info(f\"Task: {row['NAME']} | Status: {row['STATE']} | Completed: {row['COMPLETED_TIME']}\")\n",
    "    except Exception as e:\n",
    "        logger.error(f\"Error fetching task status: {str(e)}\")\n",
    "\n",
    "# Step 1: Execute Stored Procedures Using the Provided Session\n",
    "#execute_stored_procedure(\"PROCESS_TOM_PROCESSED_STREAM()\")\n",
    "execute_stored_procedure(\"UPDATE_TRAVEL_TIME_METRICS()\")\n",
    "\n",
    "\n",
    "# Step 2: Monitor the Task Execution\n",
    "check_task_status()\n",
    "\n",
    "print(\"Stored Procedure Triggered & Execution Status Checked!\")\n"
   ]
  },
  {
   "cell_type": "code",
   "execution_count": null,
   "id": "8d50cbf4-0c8d-4950-86cb-114990437ac9",
   "metadata": {
    "language": "sql",
    "name": "cell2"
   },
   "outputs": [],
   "source": [
    "-- Welcome to Snowflake Notebooks!\n",
    "-- Try out a SQL cell to generate some data.\n",
    "SELECT 'FRIDAY' as SNOWDAY, 0.2 as CHANCE_OF_SNOW\n",
    "UNION ALL\n",
    "SELECT 'SATURDAY',0.5\n",
    "UNION ALL \n",
    "SELECT 'SUNDAY', 0.9;"
   ]
  },
  {
   "cell_type": "code",
   "execution_count": null,
   "id": "c695373e-ac74-4b62-a1f1-08206cbd5c81",
   "metadata": {
    "language": "python",
    "name": "cell3"
   },
   "outputs": [],
   "source": [
    "# Then, we can use the python name to turn cell2 into a Pandas dataframe\n",
    "my_df = cell2.to_pandas()\n",
    "\n",
    "# Chart the data\n",
    "st.subheader(\"Chance of SNOW ❄️\")\n",
    "st.line_chart(my_df, x='SNOWDAY', y='CHANCE_OF_SNOW')\n",
    "\n",
    "# Give it a go!\n",
    "st.subheader(\"Try it out yourself and show off your skills 🥇\")"
   ]
  }
 ],
 "metadata": {
  "kernelspec": {
   "display_name": "Streamlit Notebook",
   "name": "streamlit"
  },
  "lastEditStatus": {
   "authorEmail": "singh.riya2@northeastern.edu",
   "authorId": "4239853551287",
   "authorName": "RIYA98",
   "lastEditTime": 1740698662227,
   "notebookId": "pnbvqzkr4ylgslaslxzd",
   "sessionId": "f0a2aff8-eafd-494b-b4f0-0657607b774e"
  }
 },
 "nbformat": 4,
 "nbformat_minor": 5
}
