{
 "metadata": {
  "kernelspec": {
   "display_name": "Streamlit Notebook",
   "name": "streamlit"
  },
  "lastEditStatus": {
   "notebookId": "pnbvqzkr4ylgslaslxzd",
   "authorId": "4239853551287",
   "authorName": "RIYA98",
   "authorEmail": "singh.riya2@northeastern.edu",
   "sessionId": "f0a2aff8-eafd-494b-b4f0-0657607b774e",
   "lastEditTime": 1740698662227
  }
 },
 "nbformat_minor": 5,
 "nbformat": 4,
 "cells": [
  {
   "cell_type": "code",
   "id": "3775908f-ca36-4846-8f38-5adca39217f2",
   "metadata": {
    "language": "python",
    "name": "cell1"
   },
   "source": "from snowflake.snowpark import Session\nimport logging\nimport time\n\n# Configure logging\nlogging.basicConfig(level=logging.INFO)\nlogger = logging.getLogger(\"SNOWFLAKE_TASKS\")\n\n# Snowflake Connection\nconnection_params = {\n    \"account\": \"blfljqq-ff41632\",\n    \"user\": \"RIYA98\",\n    \"password\": \"Bigdatasys7245\",\n    \"warehouse\": \"TOM_WH\",\n    \"database\": \"TOM_DB\",\n    \"schema\": \"RAW_TOM\"\n}\n\n#session = Session.builder.configs(connection_params).create()\n\ndef execute_stored_procedure(procedure_name):\n    \"\"\"Executes a stored procedure using the provided session.\"\"\"\n    try:\n        logger.info(f\"Executing stored procedure: {procedure_name}\")\n        session.sql(f\"CALL {procedure_name}();\").collect()\n        logger.info(f\"Stored Procedure `{procedure_name}` executed successfully.\")\n    except Exception as e:\n        logger.error(f\"Error executing {procedure_name}: {str(e)}\")\n\ndef check_task_status():\n    \"\"\"Checks the latest execution status of tasks in Snowflake.\"\"\"\n    try:\n        logger.info(\"Fetching latest task execution status...\")\n        df = session.sql(\"\"\"\n            SELECT NAME, STATE, COMPLETED_TIME \n            FROM TABLE(INFORMATION_SCHEMA.TASK_HISTORY()) \n            ORDER BY COMPLETED_TIME DESC LIMIT 5\n        \"\"\").collect()\n        for row in df:\n            logger.info(f\"Task: {row['NAME']} | Status: {row['STATE']} | Completed: {row['COMPLETED_TIME']}\")\n    except Exception as e:\n        logger.error(f\"Error fetching task status: {str(e)}\")\n\n# Step 1: Execute Stored Procedures Using the Provided Session\n#execute_stored_procedure(\"PROCESS_TOM_PROCESSED_STREAM()\")\nexecute_stored_procedure(\"UPDATE_TRAVEL_TIME_METRICS()\")\n\n\n# Step 2: Monitor the Task Execution\ncheck_task_status()\n\nprint(\"Stored Procedure Triggered & Execution Status Checked!\")\n",
   "execution_count": null,
   "outputs": []
  },
  {
   "cell_type": "code",
   "id": "8d50cbf4-0c8d-4950-86cb-114990437ac9",
   "metadata": {
    "language": "sql",
    "name": "cell2"
   },
   "source": "-- Welcome to Snowflake Notebooks!\n-- Try out a SQL cell to generate some data.\nSELECT 'FRIDAY' as SNOWDAY, 0.2 as CHANCE_OF_SNOW\nUNION ALL\nSELECT 'SATURDAY',0.5\nUNION ALL \nSELECT 'SUNDAY', 0.9;",
   "execution_count": null,
   "outputs": []
  },
  {
   "cell_type": "code",
   "id": "c695373e-ac74-4b62-a1f1-08206cbd5c81",
   "metadata": {
    "language": "python",
    "name": "cell3"
   },
   "source": "# Then, we can use the python name to turn cell2 into a Pandas dataframe\nmy_df = cell2.to_pandas()\n\n# Chart the data\nst.subheader(\"Chance of SNOW ❄️\")\nst.line_chart(my_df, x='SNOWDAY', y='CHANCE_OF_SNOW')\n\n# Give it a go!\nst.subheader(\"Try it out yourself and show off your skills 🥇\")",
   "execution_count": null,
   "outputs": []
  }
 ]
}