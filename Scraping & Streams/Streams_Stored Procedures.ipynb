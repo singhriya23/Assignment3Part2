{
 "metadata": {
  "kernelspec": {
   "display_name": "Streamlit Notebook",
   "name": "streamlit"
  },
  "lastEditStatus": {
   "notebookId": "vcrqnarqizc5jisg4e4e",
   "authorId": "4239853551287",
   "authorName": "RIYA98",
   "authorEmail": "singh.riya2@northeastern.edu",
   "sessionId": "8f925586-cdb8-4ce3-a1f1-468dc59e6b71",
   "lastEditTime": 1740775947446
  }
 },
 "nbformat_minor": 5,
 "nbformat": 4,
 "cells": [
  {
   "cell_type": "code",
   "id": "3775908f-ca36-4846-8f38-5adca39217f2",
   "metadata": {
    "language": "sql",
    "name": "cell1"
   },
   "source": "\n\nCREATE OR REPLACE STORAGE INTEGRATION s3_integration\nTYPE = EXTERNAL_STAGE\nSTORAGE_PROVIDER = 'S3'\nENABLED = TRUE\nSTORAGE_AWS_ROLE_ARN = 'arn:aws:iam::676206927597:role/Snowflake-role'\nSTORAGE_ALLOWED_LOCATIONS = ('s3://s3-airflow-bucket-1/tom_db/tomtom_traffic_data.csv');\n\nDESC STORAGE INTEGRATION S3_INTEGRATION;\n\nALTER STORAGE INTEGRATION S3_INTEGRATION\nSET STORAGE_ALLOWED_LOCATIONS = ('s3://s3-airflow-bucket-1/tom_db/');\n\nDROP STAGE IF EXISTS traffic_stage;\n\nCREATE OR REPLACE STAGE traffic_stage\nSTORAGE_INTEGRATION = S3_INTEGRATION\nURL = 's3://s3-airflow-bucket-1/tom_db/'\nFILE_FORMAT = (TYPE = CSV FIELD_OPTIONALLY_ENCLOSED_BY='\"' SKIP_HEADER=1);\n\nCOPY INTO traffic_data_stream\nFROM @traffic_stage\nPATTERN = '.*tomtom_traffic_data.csv'\nFILE_FORMAT = (\n    TYPE = CSV \n    SKIP_HEADER = 1 \n    FIELD_OPTIONALLY_ENCLOSED_BY = '\"' \n    FIELD_DELIMITER = ',' \n    ERROR_ON_COLUMN_COUNT_MISMATCH = FALSE\n);\n\nCREATE OR REPLACE STREAM raw_tom_stream\nON TABLE RAW_TOM_STAGING;  CREATE OR REPLACE VIEW VW_TOM_PROCESSED AS\nSELECT \n    rank,\n    city,\n    country,\n    avg_time_per_6_miles,\n    change_in_congestion,\n    congestion_level,\n    yearly_delay_hours,\n    CURRENT_TIMESTAMP AS processed_timestamp\nFROM RAW_TOM_STAGING\nWHERE congestion_level > 0;  -- Example filter: Only valid records \nCREATE OR REPLACE TABLE TOM_PROCESSED_TABLE AS\nSELECT * FROM VW_TOM_PROCESSED;\n\nCREATE OR REPLACE STREAM STREAM_TOM_PROCESSED \nON TABLE TOM_PROCESSED_TABLE;\n\n",
   "execution_count": null,
   "outputs": []
  },
  {
   "cell_type": "code",
   "id": "8d50cbf4-0c8d-4950-86cb-114990437ac9",
   "metadata": {
    "language": "sql",
    "name": "cell2"
   },
   "source": "CREATE OR REPLACE PROCEDURE process_raw_tom_stream()\nRETURNS STRING\nLANGUAGE SQL\nAS\n$$\nBEGIN\n    -- Process new records in the stream (INSERTS)\n    MERGE INTO RAW_TOM_STAGING AS target\n    USING (\n        SELECT * FROM raw_tom_stream\n        WHERE metadata$action = 'INSERT'\n    ) AS source\n    ON target.rank = source.rank AND target.city = source.city\n    WHEN MATCHED THEN \n        UPDATE SET \n            target.country = source.country,\n            target.avg_time_per_6_miles = source.avg_time_per_6_miles,\n            target.change_in_congestion = source.change_in_congestion,\n            target.congestion_level = source.congestion_level,\n            target.yearly_delay_hours = source.yearly_delay_hours\n    WHEN NOT MATCHED THEN \n        INSERT (rank, city, country, avg_time_per_6_miles, change_in_congestion, congestion_level, yearly_delay_hours)\n        VALUES (source.rank, source.city, source.country, source.avg_time_per_6_miles, source.change_in_congestion, source.congestion_level, source.yearly_delay_hours);\n\n    RETURN 'Stream processing completed successfully';\nEND;\n$$;\n\nCREATE OR REPLACE TASK process_raw_tom_stream_task\nWAREHOUSE = COMPUTE_WH\nSCHEDULE = 'USING CRON 0 0 * * * UTC'  -- Runs at midnight UTC every day\nAS\nCALL process_raw_tom_stream();\n\nALTER TASK process_raw_tom_stream_task RESUME;\n\nCREATE OR REPLACE PROCEDURE process_tom_processed_stream()\nRETURNS STRING\nLANGUAGE SQL\nAS\n$$\nBEGIN\n    -- Insert new data from stream into the processed table\n    MERGE INTO TOM_PROCESSED_TABLE AS target\n    USING (\n        SELECT * FROM STREAM_TOM_PROCESSED\n        WHERE metadata$action = 'INSERT'\n    ) AS source\n    ON target.rank = source.rank AND target.city = source.city\n    WHEN MATCHED THEN \n        UPDATE SET \n            target.country = source.country,\n            target.avg_time_per_6_miles = source.avg_time_per_6_miles,\n            target.change_in_congestion = source.change_in_congestion,\n            target.congestion_level = source.congestion_level,\n            target.yearly_delay_hours = source.yearly_delay_hours\n    WHEN NOT MATCHED THEN \n        INSERT (rank, city, country, avg_time_per_6_miles, change_in_congestion, congestion_level, yearly_delay_hours, processed_timestamp)\n        VALUES (source.rank, source.city, source.country, source.avg_time_per_6_miles, source.change_in_congestion, source.congestion_level, source.yearly_delay_hours, CURRENT_TIMESTAMP);\n\n    RETURN 'Stream processing completed successfully';\nEND;\n$$;\n\nCREATE OR REPLACE TASK process_tom_processed_stream_task\nWAREHOUSE = COMPUTE_WH\nSCHEDULE = 'USING CRON 0 0 * * * UTC'  -- Runs daily at midnight UTC\nAS\nCALL process_tom_processed_stream();\n\nALTER TASK process_tom_processed_stream_task RESUME;\n\n\nCREATE OR REPLACE PROCEDURE process_harmonized_tom_stream()\nRETURNS STRING\nLANGUAGE SQL\nAS\n$$\nBEGIN\n    -- Merge new data from the stream into the harmonized table\n    MERGE INTO HARMONIZED_TOM AS target\n    USING (\n        SELECT * FROM STREAM_TOM_PROCESSED\n        WHERE metadata$action = 'INSERT'  -- Only process new records\n    ) AS source\n    ON target.rank = source.rank \n       AND target.city = source.city\n       AND target.country = source.country\n    WHEN MATCHED THEN \n        UPDATE SET \n            target.avg_time_per_6_miles = source.avg_time_per_6_miles,\n            target.change_in_congestion = source.change_in_congestion,\n            target.congestion_level = source.congestion_level,\n            target.yearly_delay_hours = source.yearly_delay_hours,\n            target.processed_timestamp = CURRENT_TIMESTAMP\n    WHEN NOT MATCHED THEN \n        INSERT (rank, city, country, avg_time_per_6_miles, change_in_congestion, congestion_level, yearly_delay_hours, processed_timestamp)\n        VALUES (source.rank, source.city, source.country, source.avg_time_per_6_miles, source.change_in_congestion, source.congestion_level, source.yearly_delay_hours, CURRENT_TIMESTAMP);\n\n    RETURN 'Stream data merged into HARMONIZED_TOM successfully';\nEND;\n$$;\n\nCREATE OR REPLACE TASK process_harmonized_tom_task\nWAREHOUSE = COMPUTE_WH\nSCHEDULE = 'USING CRON 0 0 * * * UTC'  -- Runs daily at midnight UTC\nAS\nCALL process_harmonized_tom_stream();\n\nALTER TASK process_harmonized_tom_task RESUME;\n\n\n\n\n\n\n",
   "execution_count": null,
   "outputs": []
  }
 ]
}